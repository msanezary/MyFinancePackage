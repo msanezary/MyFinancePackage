{
 "cells": [
  {
   "cell_type": "code",
   "execution_count": null,
   "id": "a07f8514",
   "metadata": {},
   "outputs": [],
   "source": [
    "def "
   ]
  }
 ],
 "metadata": {
  "language_info": {
   "name": "python"
  }
 },
 "nbformat": 4,
 "nbformat_minor": 5
}
