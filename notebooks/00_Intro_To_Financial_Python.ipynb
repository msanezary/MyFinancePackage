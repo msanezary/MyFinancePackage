{
 "cells": [
  {
   "cell_type": "markdown",
   "id": "19eb6d2b",
   "metadata": {},
   "source": [
    "# 00 – Introduction to Financial Python\n",
    "\n",
    "*A quick hands‑on primer for the rest of the series*\n",
    "\n",
    "In this notebook we will just get familiar to the concept of this package before starting."
   ]
  },
  {
   "cell_type": "markdown",
   "id": "b7f50490",
   "metadata": {},
   "source": [
    "## Learning Objectives\n",
    "By the end of this notebook you will be able to:\n",
    "1. Explain the concept of **time value of money** (TVM).\n",
    "2. Compute the **Effective Annual Rate (EAR)** with `MyFinancePackage`.\n",
    "3. Calculate simple **portfolio returns** using NumPy.\n",
    "4. Run and interpret small Python code snippets that you will reuse later."
   ]
  },
  {
   "cell_type": "markdown",
   "id": "52df388b",
   "metadata": {},
   "source": [
    "### Prerequisites\n",
    "- Basic knowledge of Python.\n",
    "- Familiarity with Jupyter notebooks.\n",
    "- Packages: `numpy`, `matplotlib`, and the local `MyFinancePackage`.\n"
   ]
  },
  {
   "cell_type": "code",
   "execution_count": 2,
   "id": "7ac9f89e",
   "metadata": {},
   "outputs": [],
   "source": [
    "# Standard imports\n",
    "import numpy as np\n",
    "import matplotlib.pyplot as plt\n",
    "\n",
    "# Local package\n",
    "from basic_functions import calc_ear, portfolio_return\n",
    "\n",
    "np.set_printoptions(precision=4)\n",
    "plt.rcParams['figure.dpi'] = 120\n"
   ]
  },
  {
   "cell_type": "markdown",
   "id": "13664939",
   "metadata": {},
   "source": [
    "## 1. Time Value of Money (TVM)\n",
    "“A euro today is worth more than a euro tomorrow.”  The simplest way to quantify this principle is the **Effective Annual Rate (EAR)**."
   ]
  },
  {
   "cell_type": "markdown",
   "id": "c242c822",
   "metadata": {},
   "source": [
    "The EAR converts a nominal interest rate that is compounded multiple times per year into one number that reflects the true yearly growth.\n",
    "\n",
    "$$\\mathrm{EAR} = \\left(1 + \\frac{r_{\\text{nominal}}}{m}\\right)^{m} - 1$$\n",
    "where:\n",
    "- $r_{\\text{nominal}}$ is the stated annual rate, and\n",
    "- $m$ is the number of compounding periods per year."
   ]
  },
  {
   "cell_type": "code",
   "execution_count": 3,
   "id": "51d9e37b",
   "metadata": {},
   "outputs": [
    {
     "name": "stdout",
     "output_type": "stream",
     "text": [
      "Effective Annual Rate: 5.1162%\n"
     ]
    }
   ],
   "source": [
    "# Example: 5 % nominal rate, compounded monthly\n",
    "ear = calc_ear(0.05, 12)\n",
    "print(f\"Effective Annual Rate: {ear:.4%}\")"
   ]
  },
  {
   "cell_type": "markdown",
   "id": "2cf69e00",
   "metadata": {},
   "source": [
    "## Simple Portfolio Returns\n",
    "A portfolio’s simple return can be expressed as the **weighted average** of individual asset returns."
   ]
  },
  {
   "cell_type": "markdown",
   "id": "f5a018bf",
   "metadata": {},
   "source": [
    "Given asset return vector $r$ and weight vector $w$ (which sums to 1), the portfolio return $R_p$ is:\n",
    "$$R_p = r^T \\! w$$"
   ]
  },
  {
   "cell_type": "code",
   "execution_count": 4,
   "id": "81ff0fee",
   "metadata": {},
   "outputs": [
    {
     "name": "stdout",
     "output_type": "stream",
     "text": [
      "Portfolio return: 9.60%\n"
     ]
    }
   ],
   "source": [
    "# Example portfolio of two ETFs\n",
    "asset_returns = np.array([0.08, 0.12])  # 8 % and 12 %\n",
    "weights       = np.array([0.6, 0.4])    # 60 % / 40 %\n",
    "print(f\"Portfolio return: {portfolio_return(asset_returns, weights):.2%}\")"
   ]
  },
  {
   "cell_type": "markdown",
   "id": "2ef306b7",
   "metadata": {},
   "source": [
    "## Summary\n",
    "In this introductory notebook you:\n",
    "- Reviewed the concept of **time value of money** and calculated EAR.\n",
    "- Computed simple **portfolio returns** for weighted asset sets.\n",
    "\n",
    "**Next up:** *Gambler’s Ruin* – introducing stochastic processes and Monte‑Carlo simulation.\n"
   ]
  }
 ],
 "metadata": {
  "kernelspec": {
   "display_name": "Python 3",
   "language": "python",
   "name": "python3"
  },
  "language_info": {
   "codemirror_mode": {
    "name": "ipython",
    "version": 3
   },
   "file_extension": ".py",
   "mimetype": "text/x-python",
   "name": "python",
   "nbconvert_exporter": "python",
   "pygments_lexer": "ipython3",
   "version": "3.13.2"
  }
 },
 "nbformat": 4,
 "nbformat_minor": 5
}
